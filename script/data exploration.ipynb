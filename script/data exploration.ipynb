{
 "cells": [
  {
   "cell_type": "code",
   "execution_count": 1,
   "id": "d03d3d69-7333-4f25-bad0-378aa50cc8a0",
   "metadata": {},
   "outputs": [],
   "source": [
    "from pyspark.sql import SparkSession\n",
    "from helper.utils import initiate_spark\n",
    "\n",
    "from extract.extract import extract_csv\n",
    "from extract.extract import extract_database\n",
    "from transform.transform import Transform\n",
    "import pyspark.sql.functions as f\n",
    "from load.load import load_dwh\n",
    "\n"
   ]
  },
  {
   "cell_type": "code",
   "execution_count": 2,
   "id": "1dfe2c40-c967-4cd7-8461-07beb68253ca",
   "metadata": {},
   "outputs": [
    {
     "name": "stdout",
     "output_type": "stream",
     "text": [
      "new_bank_transaction.csv Extracted\n",
      "\"education_status\",\"marital_status\",\"marketing_campaign_deposit\" Extracted from posgreSQL\n"
     ]
    }
   ],
   "source": [
    "\n",
    "\n",
    "# Inisialisasi SparkSession\n",
    "spark = initiate_spark()\n",
    "\n",
    "# handle legacy time parser\n",
    "spark.conf.set(\"spark.sql.legacy.timeParserPolicy\", \"LEGACY\")\n",
    "\n",
    "# Extract data \n",
    "try:\n",
    "    bank_transaction=extract_csv('data/new_bank_transaction.csv')\n",
    "    print ('new_bank_transaction.csv Extracted')\n",
    "    table_names=[\"education_status\",\"marital_status\",\"marketing_campaign_deposit\"]\n",
    "    for name in table_names:\n",
    "        globals()[f'{name}']=extract_database(name)\n",
    "    print ('\"education_status\",\"marital_status\",\"marketing_campaign_deposit\" Extracted from posgreSQL')\n",
    "except Exception as e:\n",
    "    print (e)"
   ]
  },
  {
   "cell_type": "code",
   "execution_count": null,
   "id": "e24d4759-50a7-4672-8d87-ad5eb9ce26aa",
   "metadata": {},
   "outputs": [],
   "source": [
    "try: \n",
    "    #trans=Transform()\n",
    "    #marketing_campaign_deposit=trans.marketing_campaign_deposit(data=marketing_campaign_deposit)\n",
    "    #print(\"Transformed marketing_campaign_deposit data\")\n",
    "    \n",
    "    customers=trans.customers(bank_transaction)\n",
    "    print(\"Transformed customers data\")\n",
    "    #col_earlist_date = f.min('birth_date').alias('earliest')\n",
    "    #col_latest_date = f.max('birth_date').alias('latest')\n",
    "    \n",
    "    #df_result = customers.select(col_earlist_date, col_latest_date)\n",
    "    #df_result.show()  \n",
    "    transactions=trans.transactions(bank_transaction)\n",
    "    print(\"Transformed transactions data\")\n",
    "    \n",
    "except Exception as e:\n",
    "    print (e)\n",
    "    "
   ]
  },
  {
   "cell_type": "code",
   "execution_count": 3,
   "id": "9489cd92-a9e4-42d8-91c3-727edd0aad12",
   "metadata": {},
   "outputs": [
    {
     "name": "stdout",
     "output_type": "stream",
     "text": [
      "root\n",
      " |-- education_id: integer (nullable = true)\n",
      " |-- value: string (nullable = true)\n",
      " |-- created_at: timestamp (nullable = true)\n",
      " |-- updated_at: timestamp (nullable = true)\n",
      "\n"
     ]
    }
   ],
   "source": [
    "education_status.printSchema()"
   ]
  },
  {
   "cell_type": "code",
   "execution_count": 4,
   "id": "471b2ca3-4ecf-4542-a6a6-02266499ed50",
   "metadata": {},
   "outputs": [
    {
     "name": "stdout",
     "output_type": "stream",
     "text": [
      "root\n",
      " |-- marital_id: integer (nullable = true)\n",
      " |-- value: string (nullable = true)\n",
      " |-- created_at: timestamp (nullable = true)\n",
      " |-- updated_at: timestamp (nullable = true)\n",
      "\n"
     ]
    }
   ],
   "source": [
    "marital_status.printSchema()"
   ]
  },
  {
   "cell_type": "code",
   "execution_count": 5,
   "id": "1b412e38-bd15-47ee-9ac3-c4fb8cfded00",
   "metadata": {},
   "outputs": [
    {
     "name": "stdout",
     "output_type": "stream",
     "text": [
      "root\n",
      " |-- loan_data_id: integer (nullable = true)\n",
      " |-- age: integer (nullable = true)\n",
      " |-- job: string (nullable = true)\n",
      " |-- marital_id: integer (nullable = true)\n",
      " |-- education_id: integer (nullable = true)\n",
      " |-- default: boolean (nullable = true)\n",
      " |-- balance: string (nullable = true)\n",
      " |-- housing: boolean (nullable = true)\n",
      " |-- loan: boolean (nullable = true)\n",
      " |-- contact: string (nullable = true)\n",
      " |-- day: integer (nullable = true)\n",
      " |-- month: string (nullable = true)\n",
      " |-- duration: integer (nullable = true)\n",
      " |-- campaign: integer (nullable = true)\n",
      " |-- pdays: integer (nullable = true)\n",
      " |-- previous: integer (nullable = true)\n",
      " |-- poutcome: string (nullable = true)\n",
      " |-- subscribed_deposit: boolean (nullable = true)\n",
      " |-- created_at: timestamp (nullable = true)\n",
      " |-- updated_at: timestamp (nullable = true)\n",
      "\n"
     ]
    }
   ],
   "source": [
    "marketing_campaign_deposit.printSchema()"
   ]
  },
  {
   "cell_type": "code",
   "execution_count": 6,
   "id": "c9c68018-4f1a-450d-8ce9-b3d17f0868ea",
   "metadata": {},
   "outputs": [
    {
     "name": "stdout",
     "output_type": "stream",
     "text": [
      "-RECORD 0----------------------------------\n",
      " loan_data_id       | 1                    \n",
      " age                | 58                   \n",
      " job                | management           \n",
      " marital_id         | 1                    \n",
      " education_id       | 1                    \n",
      " default            | false                \n",
      " balance            | $2143                \n",
      " housing            | true                 \n",
      " loan               | false                \n",
      " contact            | unknown              \n",
      " day                | 5                    \n",
      " month              | may                  \n",
      " duration           | 261                  \n",
      " campaign           | 1                    \n",
      " pdays              | -1                   \n",
      " previous           | 0                    \n",
      " poutcome           | unknown              \n",
      " subscribed_deposit | false                \n",
      " created_at         | 2025-02-28 15:59:... \n",
      " updated_at         | 2025-02-28 15:59:... \n",
      "-RECORD 1----------------------------------\n",
      " loan_data_id       | 2                    \n",
      " age                | 44                   \n",
      " job                | technician           \n",
      " marital_id         | 2                    \n",
      " education_id       | 2                    \n",
      " default            | false                \n",
      " balance            | $29                  \n",
      " housing            | true                 \n",
      " loan               | false                \n",
      " contact            | unknown              \n",
      " day                | 5                    \n",
      " month              | may                  \n",
      " duration           | 151                  \n",
      " campaign           | 1                    \n",
      " pdays              | -1                   \n",
      " previous           | 0                    \n",
      " poutcome           | unknown              \n",
      " subscribed_deposit | false                \n",
      " created_at         | 2025-02-28 15:59:... \n",
      " updated_at         | 2025-02-28 15:59:... \n",
      "-RECORD 2----------------------------------\n",
      " loan_data_id       | 3                    \n",
      " age                | 33                   \n",
      " job                | entrepreneur         \n",
      " marital_id         | 1                    \n",
      " education_id       | 2                    \n",
      " default            | false                \n",
      " balance            | $2                   \n",
      " housing            | true                 \n",
      " loan               | true                 \n",
      " contact            | unknown              \n",
      " day                | 5                    \n",
      " month              | may                  \n",
      " duration           | 76                   \n",
      " campaign           | 1                    \n",
      " pdays              | -1                   \n",
      " previous           | 0                    \n",
      " poutcome           | unknown              \n",
      " subscribed_deposit | false                \n",
      " created_at         | 2025-02-28 15:59:... \n",
      " updated_at         | 2025-02-28 15:59:... \n",
      "only showing top 3 rows\n",
      "\n"
     ]
    }
   ],
   "source": [
    "marketing_campaign_deposit.show(3, vertical=True)"
   ]
  },
  {
   "cell_type": "code",
   "execution_count": 8,
   "id": "bd66b9ea-7bed-4185-894a-5044025ef4ed",
   "metadata": {},
   "outputs": [
    {
     "name": "stdout",
     "output_type": "stream",
     "text": [
      "root\n",
      " |-- TransactionID: string (nullable = true)\n",
      " |-- CustomerID: string (nullable = true)\n",
      " |-- CustomerDOB: string (nullable = true)\n",
      " |-- CustGender: string (nullable = true)\n",
      " |-- CustLocation: string (nullable = true)\n",
      " |-- CustAccountBalance: string (nullable = true)\n",
      " |-- TransactionDate: string (nullable = true)\n",
      " |-- TransactionTime: string (nullable = true)\n",
      " |-- TransactionAmount (INR): string (nullable = true)\n",
      "\n"
     ]
    }
   ],
   "source": [
    "bank_transaction.printSchema()"
   ]
  },
  {
   "cell_type": "code",
   "execution_count": null,
   "id": "a73f8f42-82d1-4c85-b511-37978ae6cd8c",
   "metadata": {},
   "outputs": [],
   "source": [
    "customers.show(3, vertical=True)"
   ]
  }
 ],
 "metadata": {
  "kernelspec": {
   "display_name": "Python 3 (ipykernel)",
   "language": "python",
   "name": "python3"
  },
  "language_info": {
   "codemirror_mode": {
    "name": "ipython",
    "version": 3
   },
   "file_extension": ".py",
   "mimetype": "text/x-python",
   "name": "python",
   "nbconvert_exporter": "python",
   "pygments_lexer": "ipython3",
   "version": "3.11.6"
  }
 },
 "nbformat": 4,
 "nbformat_minor": 5
}
